{
 "cells": [
  {
   "cell_type": "code",
   "id": "initial_id",
   "metadata": {
    "collapsed": true,
    "ExecuteTime": {
     "end_time": "2024-05-31T11:30:30.134847Z",
     "start_time": "2024-05-31T11:30:29.934202Z"
    }
   },
   "source": [
    "import cv2"
   ],
   "outputs": [],
   "execution_count": 1
  },
  {
   "cell_type": "code",
   "source": [
    "def capture_face():\n",
    "    # 打开摄像头\n",
    "    cap = cv2.VideoCapture(0)\n",
    "\n",
    "    # 创建一个人脸分类器\n",
    "    face_cascade = cv2.CascadeClassifier(cv2.data.haarcascades + 'haarcascade_frontalface_default.xml')\n",
    "\n",
    "    while True:\n",
    "        # 读取摄像头画面\n",
    "        ret, frame = cap.read()\n",
    "        \n",
    "        # 将图像转换为灰度图像\n",
    "        gray = cv2.cvtColor(frame, cv2.COLOR_BGR2GRAY)\n",
    "\n",
    "        # 检测人脸\n",
    "        faces = face_cascade.detectMultiScale(gray, scaleFactor=1.1, minNeighbors=5, minSize=(30, 30))\n",
    "\n",
    "        # 在检测到的人脸周围画矩形框\n",
    "        for (x, y, w, h) in faces:\n",
    "            cv2.rectangle(frame, (x, y), (x+w, y+h), (255, 0, 0), 2)\n",
    "\n",
    "        # 显示摄像头画面\n",
    "        cv2.imshow('Capture Face', frame)\n",
    "\n",
    "        # 按 'q' 键退出循环\n",
    "        if cv2.waitKey(1) & 0xFF == ord('q'):\n",
    "            if len(faces) > 0:\n",
    "                # 只保存检测到的第一个人脸\n",
    "                x, y, w, h = faces[0]\n",
    "                face_image = frame[y:y+h, x:x+w]\n",
    "                break\n",
    "\n",
    "    # 释放摄像头并关闭所有窗口\n",
    "    cap.release()\n",
    "    cv2.destroyAllWindows()\n",
    "\n",
    "    return face_image"
   ],
   "metadata": {
    "collapsed": false,
    "ExecuteTime": {
     "end_time": "2024-05-31T11:30:33.308263Z",
     "start_time": "2024-05-31T11:30:33.304228Z"
    }
   },
   "id": "d8cdb8dd82b2b2b4",
   "outputs": [],
   "execution_count": 2
  },
  {
   "cell_type": "code",
   "source": [
    "# 测试 capture_face 函数\n",
    "if __name__ == \"__main__\":\n",
    "    face = capture_face()\n",
    "    if face is not None:\n",
    "        cv2.imshow(\"Captured Face\", face)\n",
    "        cv2.waitKey(0)\n",
    "        cv2.destroyAllWindows()\n",
    "        cv2.imwrite(\"captured_face.jpg\", face)"
   ],
   "metadata": {
    "collapsed": false,
    "jupyter": {
     "is_executing": true
    },
    "ExecuteTime": {
     "start_time": "2024-05-31T11:30:34.188498Z"
    }
   },
   "id": "7516e8f452506aa3",
   "outputs": [],
   "execution_count": null
  },
  {
   "cell_type": "code",
   "outputs": [],
   "source": [],
   "metadata": {
    "collapsed": false
   },
   "id": "b831c8de9aa3c4c2",
   "execution_count": null
  },
  {
   "cell_type": "code",
   "outputs": [],
   "source": [],
   "metadata": {
    "collapsed": false
   },
   "id": "821327c717dd0f56",
   "execution_count": null
  }
 ],
 "metadata": {
  "kernelspec": {
   "display_name": "Python 3",
   "language": "python",
   "name": "python3"
  },
  "language_info": {
   "codemirror_mode": {
    "name": "ipython",
    "version": 2
   },
   "file_extension": ".py",
   "mimetype": "text/x-python",
   "name": "python",
   "nbconvert_exporter": "python",
   "pygments_lexer": "ipython2",
   "version": "2.7.6"
  }
 },
 "nbformat": 4,
 "nbformat_minor": 5
}
